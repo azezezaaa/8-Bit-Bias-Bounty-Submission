{
  "nbformat": 4,
  "nbformat_minor": 0,
  "metadata": {
    "colab": {
      "provenance": []
    },
    "kernelspec": {
      "name": "python3",
      "display_name": "Python 3"
    },
    "language_info": {
      "name": "python"
    },
    "accelerator": "GPU",
    "gpuClass": "standard"
  },
  "cells": [
    {
      "cell_type": "code",
      "execution_count": null,
      "metadata": {
        "id": "6Lv5OYlsx7Vz"
      },
      "outputs": [],
      "source": [
        "# from google.colab import drive\n",
        "# drive.mount('/content/drive')\n"
      ]
    },
    {
      "cell_type": "code",
      "source": [
        "# !cp /content/drive/MyDrive/data_bb1_img_recognition.zip /content/"
      ],
      "metadata": {
        "id": "mdIzGvkwMta3"
      },
      "execution_count": null,
      "outputs": []
    },
    {
      "cell_type": "code",
      "source": [
        "# !unzip data_bb1_img_recognition.zip -d /content/dataset/"
      ],
      "metadata": {
        "id": "oMOks48_M2Fh"
      },
      "execution_count": null,
      "outputs": []
    },
    {
      "cell_type": "code",
      "source": [
        "# !pip install tensorflow\n",
        "import numpy as np\n",
        "import pandas as pd\n",
        "import json\n",
        "import os\n",
        "\n",
        "from sklearn.preprocessing import LabelBinarizer\n",
        "from sklearn.model_selection import train_test_split\n",
        "from sklearn.metrics import accuracy_score, confusion_matrix\n",
        "\n",
        "import tensorflow as tf\n",
        "import tensorflow.keras as K\n",
        "from tensorflow.keras.preprocessing import image\n",
        "from tensorflow.keras.applications.resnet_v2 import ResNet101V2\n"
      ],
      "metadata": {
        "id": "vKgnknGKMq9m"
      },
      "execution_count": null,
      "outputs": []
    },
    {
      "cell_type": "code",
      "source": [
        "# load data\n",
        "LOADPATH = '/content/dataset/train/'\n",
        "SAVEPATH = '/content/models/'\n",
        "df = pd.read_csv(LOADPATH+'labels.csv')\n",
        "df_labeled = df[df[\"skin_tone\"].notna()] # take only labeled data\n",
        "\n",
        "# Converting labels to np array\n",
        "cat = ['skin_tone','gender','age']\n",
        "lbs = [LabelBinarizer() for i in range(3)]\n",
        "Y = []\n",
        "for i in range(3):\n",
        "    lab = lbs[i].fit_transform(df_labeled[cat[i]])\n",
        "    if lab.shape[1]==1:\n",
        "        Y.append(np.hstack((1-lab,lab)))\n",
        "    else:\n",
        "        Y.append(lab)"
      ],
      "metadata": {
        "id": "9aFjeTbpNXJx"
      },
      "execution_count": null,
      "outputs": []
    },
    {
      "cell_type": "code",
      "source": [
        "# loading and converting data into np array\n",
        "print(\"Loading images\")\n",
        "length = width = 64 # size for each input image, increase if you want\n",
        "nn = df_labeled.shape[0]\n",
        "all_imgs = [image.load_img(LOADPATH+df_labeled.iloc[i]['name'], target_size=(length,width)) for i in range(nn)]\n",
        "\n",
        "print(\"Converting images to np array\")\n",
        "X = np.empty([nn, length, width, 3], dtype=float)\n",
        "for i in range(nn):\n",
        "    X[i,:] = image.img_to_array(all_imgs[i])\n",
        "X = K.applications.resnet_v2.preprocess_input(X)\n"
      ],
      "metadata": {
        "colab": {
          "base_uri": "https://localhost:8080/"
        },
        "id": "xKVO-pTBScot",
        "outputId": "c93577a5-e9fb-477d-8e16-d3e470a72af5"
      },
      "execution_count": null,
      "outputs": [
        {
          "output_type": "stream",
          "name": "stdout",
          "text": [
            "Loading images\n",
            "Converting images to np array\n"
          ]
        }
      ]
    },
    {
      "cell_type": "code",
      "source": [
        "all_imgs[1234] # print a test image"
      ],
      "metadata": {
        "colab": {
          "base_uri": "https://localhost:8080/",
          "height": 81
        },
        "id": "QGOff17MTN7Q",
        "outputId": "db3b9b73-dadd-4358-d209-7a6b6bb432c1"
      },
      "execution_count": null,
      "outputs": [
        {
          "output_type": "execute_result",
          "data": {
            "text/plain": [
              "<PIL.Image.Image image mode=RGB size=64x64 at 0x7F5A384BB040>"
            ],
            "image/png": "[encoded data removed]"
          },
          "metadata": {},
          "execution_count": 7
        }
      ]
    },
    {
      "cell_type": "code",
      "source": [
        "class PredictionModel():\n",
        "    def __init__(self, X, Y, idx):\n",
        "        self.X = X\n",
        "        self.Y = Y\n",
        "        self.idx = idx\n",
        "        self.trainX, self.testX = X[idx[0],:], X[idx[1],:]\n",
        "        self.trainY, self.testY = [Y[i][idx[0],:] for i in range(3)], [Y[i][idx[1],:] for i in range(3)]\n",
        "        self.cat = ['skin_tone','gender','age']\n",
        "        self.loss = ['categorical_crossentropy' for i in range(3)]\n",
        "        self.metrics = [['accuracy'] for i in range(3)]\n",
        "        self.models = [None]*3\n",
        "\n",
        "    # train a model specific for a certain class index in self.cat\n",
        "    def fit(self, index, model, epochs=5, batch_size=16, save=False, save_location=None, verbose=1):\n",
        "        \n",
        "        if verbose: print(\"Training model for \"+self.cat[index])\n",
        "        model.add(K.layers.Dense(self.trainY[index].shape[1], activation='softmax'))\n",
        "        model.compile(loss=self.loss[index], optimizer='Adam', metrics=self.metrics[index])\n",
        "        model.fit(\n",
        "            self.trainX, self.trainY[index], \n",
        "            validation_data=(self.testX,self.testY[index]), \n",
        "            batch_size=batch_size, epochs=epochs, verbose=verbose\n",
        "        )\n",
        "        if save:\n",
        "            if os.path.exists(SAVEPATH)==False:\n",
        "                print('save location '+SAVEPATH+' did not exist. creating')\n",
        "                os.makedirs(SAVEPATH)\n",
        "            SAVE_LOCATION = save_location+'model_'+cat[index]+'.h5'\n",
        "            print(\"saving model at \"+SAVE_LOCATION)\n",
        "            model.save(SAVE_LOCATION)\n",
        "        self.models[index] = model\n",
        "            \n",
        "    def predict(self, newX):\n",
        "        predictions = [model.predict(newX) for model in self.models]\n",
        "        return predictions\n"
      ],
      "metadata": {
        "id": "kfHk1xG0bNAr"
      },
      "execution_count": null,
      "outputs": []
    },
    {
      "cell_type": "code",
      "source": [
        "# function to initialize a model\n",
        "def initializeModel():\n",
        "    res_model = ResNet101V2(include_top=False, weights='imagenet', input_tensor=K.Input(shape=[length,width,3]))\n",
        "\n",
        "    # # freeze all but the last layer\n",
        "    for layer in res_model.layers[:376]:\n",
        "      layer.trainable = False\n",
        "    model = K.models.Sequential()\n",
        "    model.add(res_model)\n",
        "    model.add(K.layers.Flatten())\n",
        "    model.add(K.layers.BatchNormalization())\n",
        "    model.add(K.layers.Dense(256, activation='relu'))\n",
        "    model.add(K.layers.Dropout(0.5))\n",
        "    model.add(K.layers.BatchNormalization())\n",
        "    model.add(K.layers.Dense(128, activation='relu'))\n",
        "    model.add(K.layers.Dropout(0.5))\n",
        "    model.add(K.layers.BatchNormalization())\n",
        "    model.add(K.layers.Dense(64, activation='relu'))\n",
        "    model.add(K.layers.Dropout(0.5))\n",
        "    model.add(K.layers.BatchNormalization())\n",
        "    return model\n",
        "\n",
        "nntrain = int(0.7*nn)\n",
        "np.random.seed(42)\n",
        "indices = np.random.permutation(nn)\n",
        "train_idx, test_idx = indices[:nntrain], indices[nntrain:]\n",
        "mymodel = PredictionModel(X=X, Y=Y, idx=[train_idx,test_idx])\n",
        "\n",
        "# train model\n",
        "for i in range(3):\n",
        "    mymodel.fit(index=i, model=initializeModel(), epochs=25, save=True, save_location=SAVEPATH)"
      ],
      "metadata": {
        "colab": {
          "base_uri": "https://localhost:8080/"
        },
        "id": "CRbjLLoMbO77",
        "outputId": "d3da9fa8-0cb5-48f7-f748-7cba63628f0d"
      },
      "execution_count": null,
      "outputs": [
        {
          "output_type": "stream",
          "name": "stdout",
          "text": [
            "Training model for skin_tone\n",
            "Epoch 1/25\n",
            "375/375 [==============================] - 23s 38ms/step - loss: 2.5966 - accuracy: 0.1360 - val_loss: 2.1146 - val_accuracy: 0.2042\n",
            "Epoch 2/25\n",
            "375/375 [==============================] - 13s 36ms/step - loss: 2.2748 - accuracy: 0.1669 - val_loss: 2.0776 - val_accuracy: 0.2054\n",
            "Epoch 3/25\n",
            "375/375 [==============================] - 12s 31ms/step - loss: 2.1605 - accuracy: 0.1856 - val_loss: 2.0610 - val_accuracy: 0.2054\n",
            "Epoch 4/25\n",
            "375/375 [==============================] - 13s 36ms/step - loss: 2.1094 - accuracy: 0.1809 - val_loss: 2.0401 - val_accuracy: 0.2132\n",
            "Epoch 5/25\n",
            "375/375 [==============================] - 12s 31ms/step - loss: 2.0797 - accuracy: 0.1964 - val_loss: 2.0319 - val_accuracy: 0.2155\n",
            "Epoch 6/25\n",
            "375/375 [==============================] - 12s 31ms/step - loss: 2.0598 - accuracy: 0.2038 - val_loss: 2.0225 - val_accuracy: 0.2171\n",
            "Epoch 7/25\n",
            "375/375 [==============================] - 12s 31ms/step - loss: 2.0472 - accuracy: 0.2098 - val_loss: 2.0136 - val_accuracy: 0.2178\n",
            "Epoch 8/25\n",
            "375/375 [==============================] - 14s 38ms/step - loss: 2.0403 - accuracy: 0.2110 - val_loss: 2.0100 - val_accuracy: 0.2182\n",
            "Epoch 9/25\n",
            "375/375 [==============================] - 14s 36ms/step - loss: 2.0196 - accuracy: 0.2193 - val_loss: 1.9942 - val_accuracy: 0.2268\n",
            "Epoch 10/25\n",
            "375/375 [==============================] - 12s 31ms/step - loss: 1.9945 - accuracy: 0.2282 - val_loss: 1.9991 - val_accuracy: 0.2175\n",
            "Epoch 11/25\n",
            "375/375 [==============================] - 14s 36ms/step - loss: 1.9810 - accuracy: 0.2232 - val_loss: 2.0147 - val_accuracy: 0.2136\n",
            "Epoch 12/25\n",
            "375/375 [==============================] - 12s 31ms/step - loss: 1.9680 - accuracy: 0.2305 - val_loss: 2.0074 - val_accuracy: 0.2167\n",
            "Epoch 13/25\n",
            "375/375 [==============================] - 11s 31ms/step - loss: 1.9633 - accuracy: 0.2215 - val_loss: 2.0052 - val_accuracy: 0.2194\n",
            "Epoch 14/25\n",
            "375/375 [==============================] - 12s 31ms/step - loss: 1.9388 - accuracy: 0.2318 - val_loss: 2.0145 - val_accuracy: 0.2225\n",
            "Epoch 15/25\n",
            "375/375 [==============================] - 12s 31ms/step - loss: 1.9132 - accuracy: 0.2586 - val_loss: 2.0217 - val_accuracy: 0.2194\n",
            "Epoch 16/25\n",
            "375/375 [==============================] - 11s 31ms/step - loss: 1.8963 - accuracy: 0.2542 - val_loss: 2.0184 - val_accuracy: 0.2229\n",
            "Epoch 17/25\n",
            "375/375 [==============================] - 11s 31ms/step - loss: 1.8712 - accuracy: 0.2629 - val_loss: 2.0606 - val_accuracy: 0.2124\n",
            "Epoch 18/25\n",
            "375/375 [==============================] - 13s 36ms/step - loss: 1.8633 - accuracy: 0.2686 - val_loss: 2.0574 - val_accuracy: 0.2221\n",
            "Epoch 19/25\n",
            "375/375 [==============================] - 12s 31ms/step - loss: 1.8452 - accuracy: 0.2761 - val_loss: 2.1112 - val_accuracy: 0.2065\n",
            "Epoch 20/25\n",
            "375/375 [==============================] - 12s 31ms/step - loss: 1.8346 - accuracy: 0.2798 - val_loss: 2.0751 - val_accuracy: 0.2140\n",
            "Epoch 21/25\n",
            "375/375 [==============================] - 11s 31ms/step - loss: 1.7979 - accuracy: 0.2881 - val_loss: 2.1114 - val_accuracy: 0.2151\n",
            "Epoch 22/25\n",
            "375/375 [==============================] - 11s 31ms/step - loss: 1.7823 - accuracy: 0.2983 - val_loss: 2.1490 - val_accuracy: 0.2194\n",
            "Epoch 23/25\n",
            "375/375 [==============================] - 13s 36ms/step - loss: 1.7597 - accuracy: 0.3025 - val_loss: 2.1731 - val_accuracy: 0.2140\n",
            "Epoch 24/25\n",
            "375/375 [==============================] - 14s 38ms/step - loss: 1.7394 - accuracy: 0.3078 - val_loss: 2.1980 - val_accuracy: 0.2229\n",
            "Epoch 25/25\n",
            "375/375 [==============================] - 14s 36ms/step - loss: 1.7571 - accuracy: 0.3052 - val_loss: 2.2181 - val_accuracy: 0.2097\n",
            "saving model at /content/models/model_skin_tone.h5\n",
            "Training model for gender\n",
            "Epoch 1/25\n",
            "375/375 [==============================] - 20s 36ms/step - loss: 0.7783 - accuracy: 0.5657 - val_loss: 0.5931 - val_accuracy: 0.6656\n",
            "Epoch 2/25\n",
            "375/375 [==============================] - 12s 31ms/step - loss: 0.6314 - accuracy: 0.6314 - val_loss: 0.5707 - val_accuracy: 0.6765\n",
            "Epoch 3/25\n",
            "375/375 [==============================] - 12s 31ms/step - loss: 0.5974 - accuracy: 0.6611 - val_loss: 0.5592 - val_accuracy: 0.6999\n",
            "Epoch 4/25\n",
            "375/375 [==============================] - 12s 31ms/step - loss: 0.5748 - accuracy: 0.6870 - val_loss: 0.5406 - val_accuracy: 0.7050\n",
            "Epoch 5/25\n",
            "375/375 [==============================] - 12s 31ms/step - loss: 0.5579 - accuracy: 0.7030 - val_loss: 0.5354 - val_accuracy: 0.7190\n",
            "Epoch 6/25\n",
            "375/375 [==============================] - 12s 31ms/step - loss: 0.5385 - accuracy: 0.7172 - val_loss: 0.5475 - val_accuracy: 0.7042\n",
            "Epoch 7/25\n",
            "375/375 [==============================] - 13s 36ms/step - loss: 0.5205 - accuracy: 0.7339 - val_loss: 0.5321 - val_accuracy: 0.7206\n",
            "Epoch 8/25\n",
            "375/375 [==============================] - 12s 31ms/step - loss: 0.5119 - accuracy: 0.7438 - val_loss: 0.5443 - val_accuracy: 0.6976\n",
            "Epoch 9/25\n",
            "375/375 [==============================] - 12s 31ms/step - loss: 0.4819 - accuracy: 0.7682 - val_loss: 0.5676 - val_accuracy: 0.7186\n",
            "Epoch 10/25\n",
            "375/375 [==============================] - 12s 31ms/step - loss: 0.4726 - accuracy: 0.7710 - val_loss: 0.5725 - val_accuracy: 0.6964\n",
            "Epoch 11/25\n",
            "375/375 [==============================] - 14s 36ms/step - loss: 0.4552 - accuracy: 0.7894 - val_loss: 0.6235 - val_accuracy: 0.6875\n",
            "Epoch 12/25\n",
            "375/375 [==============================] - 12s 31ms/step - loss: 0.4399 - accuracy: 0.7967 - val_loss: 0.6143 - val_accuracy: 0.7112\n",
            "Epoch 13/25\n",
            "375/375 [==============================] - 14s 38ms/step - loss: 0.4296 - accuracy: 0.8072 - val_loss: 0.6415 - val_accuracy: 0.7011\n",
            "Epoch 14/25\n",
            "375/375 [==============================] - 12s 31ms/step - loss: 0.3991 - accuracy: 0.8211 - val_loss: 0.6385 - val_accuracy: 0.7015\n",
            "Epoch 15/25\n",
            "375/375 [==============================] - 14s 36ms/step - loss: 0.3761 - accuracy: 0.8348 - val_loss: 0.6807 - val_accuracy: 0.7143\n",
            "Epoch 16/25\n",
            "375/375 [==============================] - 14s 37ms/step - loss: 0.3826 - accuracy: 0.8336 - val_loss: 0.7084 - val_accuracy: 0.6769\n",
            "Epoch 17/25\n",
            "375/375 [==============================] - 12s 31ms/step - loss: 0.3633 - accuracy: 0.8415 - val_loss: 0.6813 - val_accuracy: 0.7034\n",
            "Epoch 18/25\n",
            "375/375 [==============================] - 12s 31ms/step - loss: 0.3479 - accuracy: 0.8545 - val_loss: 0.7028 - val_accuracy: 0.6984\n",
            "Epoch 19/25\n",
            "375/375 [==============================] - 14s 36ms/step - loss: 0.3400 - accuracy: 0.8550 - val_loss: 0.7567 - val_accuracy: 0.6871\n",
            "Epoch 20/25\n",
            "375/375 [==============================] - 14s 37ms/step - loss: 0.3332 - accuracy: 0.8585 - val_loss: 0.7611 - val_accuracy: 0.7069\n",
            "Epoch 21/25\n",
            "375/375 [==============================] - 14s 37ms/step - loss: 0.3375 - accuracy: 0.8617 - val_loss: 0.7564 - val_accuracy: 0.6988\n",
            "Epoch 22/25\n",
            "375/375 [==============================] - 12s 32ms/step - loss: 0.3145 - accuracy: 0.8682 - val_loss: 0.7877 - val_accuracy: 0.7089\n",
            "Epoch 23/25\n",
            "375/375 [==============================] - 12s 31ms/step - loss: 0.3056 - accuracy: 0.8779 - val_loss: 0.7625 - val_accuracy: 0.7151\n",
            "Epoch 24/25\n",
            "375/375 [==============================] - 12s 31ms/step - loss: 0.3117 - accuracy: 0.8726 - val_loss: 0.7998 - val_accuracy: 0.7108\n",
            "Epoch 25/25\n",
            "375/375 [==============================] - 14s 36ms/step - loss: 0.2920 - accuracy: 0.8806 - val_loss: 0.8193 - val_accuracy: 0.6995\n",
            "saving model at /content/models/model_gender.h5\n",
            "Training model for age\n",
            "Epoch 1/25\n",
            "375/375 [==============================] - 21s 39ms/step - loss: 1.4384 - accuracy: 0.3907 - val_loss: 1.0582 - val_accuracy: 0.5362\n",
            "Epoch 2/25\n",
            "375/375 [==============================] - 12s 31ms/step - loss: 1.1644 - accuracy: 0.4840 - val_loss: 1.0360 - val_accuracy: 0.5390\n",
            "Epoch 3/25\n",
            "375/375 [==============================] - 12s 31ms/step - loss: 1.0987 - accuracy: 0.5143 - val_loss: 1.0198 - val_accuracy: 0.5398\n",
            "Epoch 4/25\n",
            "375/375 [==============================] - 14s 36ms/step - loss: 1.0692 - accuracy: 0.5296 - val_loss: 1.0166 - val_accuracy: 0.5394\n",
            "Epoch 5/25\n",
            "375/375 [==============================] - 12s 31ms/step - loss: 1.0459 - accuracy: 0.5415 - val_loss: 1.0118 - val_accuracy: 0.5429\n",
            "Epoch 6/25\n",
            "375/375 [==============================] - 12s 31ms/step - loss: 1.0276 - accuracy: 0.5484 - val_loss: 1.0083 - val_accuracy: 0.5472\n",
            "Epoch 7/25\n",
            "375/375 [==============================] - 14s 36ms/step - loss: 1.0131 - accuracy: 0.5575 - val_loss: 1.0129 - val_accuracy: 0.5460\n",
            "Epoch 8/25\n",
            "375/375 [==============================] - 12s 31ms/step - loss: 1.0093 - accuracy: 0.5572 - val_loss: 1.0145 - val_accuracy: 0.5503\n",
            "Epoch 9/25\n",
            "375/375 [==============================] - 14s 36ms/step - loss: 1.0053 - accuracy: 0.5522 - val_loss: 1.0109 - val_accuracy: 0.5553\n",
            "Epoch 10/25\n",
            "375/375 [==============================] - 12s 31ms/step - loss: 0.9765 - accuracy: 0.5707 - val_loss: 1.0293 - val_accuracy: 0.5433\n",
            "Epoch 11/25\n",
            "375/375 [==============================] - 14s 36ms/step - loss: 0.9629 - accuracy: 0.5794 - val_loss: 1.0313 - val_accuracy: 0.5472\n",
            "Epoch 12/25\n",
            "375/375 [==============================] - 12s 31ms/step - loss: 0.9497 - accuracy: 0.5791 - val_loss: 1.0492 - val_accuracy: 0.5409\n",
            "Epoch 13/25\n",
            "375/375 [==============================] - 12s 31ms/step - loss: 0.9420 - accuracy: 0.5816 - val_loss: 1.0555 - val_accuracy: 0.5433\n",
            "Epoch 14/25\n",
            "375/375 [==============================] - 12s 31ms/step - loss: 0.9174 - accuracy: 0.5963 - val_loss: 1.0754 - val_accuracy: 0.5390\n",
            "Epoch 15/25\n",
            "375/375 [==============================] - 12s 31ms/step - loss: 0.8982 - accuracy: 0.6040 - val_loss: 1.0764 - val_accuracy: 0.5386\n",
            "Epoch 16/25\n",
            "375/375 [==============================] - 12s 31ms/step - loss: 0.8802 - accuracy: 0.6212 - val_loss: 1.1077 - val_accuracy: 0.5433\n",
            "Epoch 17/25\n",
            "375/375 [==============================] - 12s 32ms/step - loss: 0.8484 - accuracy: 0.6272 - val_loss: 1.1341 - val_accuracy: 0.5374\n",
            "Epoch 18/25\n",
            "375/375 [==============================] - 12s 31ms/step - loss: 0.8561 - accuracy: 0.6285 - val_loss: 1.1309 - val_accuracy: 0.5304\n",
            "Epoch 19/25\n",
            "375/375 [==============================] - 14s 36ms/step - loss: 0.8369 - accuracy: 0.6414 - val_loss: 1.1638 - val_accuracy: 0.5390\n",
            "Epoch 20/25\n",
            "375/375 [==============================] - 12s 31ms/step - loss: 0.8090 - accuracy: 0.6434 - val_loss: 1.1912 - val_accuracy: 0.5405\n",
            "Epoch 21/25\n",
            "375/375 [==============================] - 12s 31ms/step - loss: 0.7924 - accuracy: 0.6593 - val_loss: 1.2065 - val_accuracy: 0.5316\n",
            "Epoch 22/25\n",
            "375/375 [==============================] - 12s 31ms/step - loss: 0.7637 - accuracy: 0.6790 - val_loss: 1.2297 - val_accuracy: 0.5362\n",
            "Epoch 23/25\n",
            "375/375 [==============================] - 12s 31ms/step - loss: 0.7577 - accuracy: 0.6773 - val_loss: 1.2447 - val_accuracy: 0.5199\n",
            "Epoch 24/25\n",
            "375/375 [==============================] - 12s 31ms/step - loss: 0.7348 - accuracy: 0.6863 - val_loss: 1.3087 - val_accuracy: 0.5265\n",
            "Epoch 25/25\n",
            "375/375 [==============================] - 14s 36ms/step - loss: 0.7435 - accuracy: 0.6870 - val_loss: 1.3244 - val_accuracy: 0.5327\n",
            "saving model at /content/models/model_age.h5\n"
          ]
        }
      ]
    },
    {
      "cell_type": "code",
      "source": [
        "# load labels data\n",
        "TESTPATH = '/content/dataset/test/'\n",
        "df_test = pd.read_csv(TESTPATH+'labels.csv')\n",
        "\n",
        "# Convert labels to np array\n",
        "print(\"Converting test labels to np array\")\n",
        "testY = []\n",
        "for i in range(3):\n",
        "    lab = lbs[i].fit_transform(df_test[cat[i]])\n",
        "    if lab.shape[1]==1:\n",
        "        testY.append(np.hstack((1-lab,lab)))\n",
        "    else:\n",
        "        testY.append(lab)\n",
        "        \n",
        "# load and convert images into np array\n",
        "print(\"Loading test images\")\n",
        "nt = df_test.shape[0]\n",
        "all_imgs = [image.load_img(TESTPATH+df_test.iloc[i]['name'], target_size=(length,width)) for i in range(nt)]\n",
        "\n",
        "print(\"Converting test images to np array\")\n",
        "testX = np.empty([nt, length, width, 3], dtype=float)\n",
        "for i in range(nt):\n",
        "    testX[i,:] = image.img_to_array(all_imgs[i])\n",
        "testX = K.applications.resnet_v2.preprocess_input(testX)"
      ],
      "metadata": {
        "colab": {
          "base_uri": "https://localhost:8080/"
        },
        "id": "f-g0dtc1bQ4P",
        "outputId": "557c6689-4c33-4d3c-e492-190cdbfec0e1"
      },
      "execution_count": null,
      "outputs": [
        {
          "output_type": "stream",
          "name": "stdout",
          "text": [
            "Converting test labels to np array\n",
            "Loading test images\n",
            "Converting test images to np array\n"
          ]
        }
      ]
    },
    {
      "cell_type": "code",
      "source": [
        "pred = mymodel.predict(testX)\n",
        "predY = [[np.argmax(pred[i][j,:]) for j in range(nt)] for i in range(3)]\n",
        "predLabels = [[lbs[i].classes_[j] for j in predY[i]] for i in range(3)]\n"
      ],
      "metadata": {
        "colab": {
          "base_uri": "https://localhost:8080/"
        },
        "id": "9XNefOcrbXmG",
        "outputId": "32839a78-be66-449c-9f66-760d909861bf"
      },
      "execution_count": null,
      "outputs": [
        {
          "output_type": "stream",
          "name": "stdout",
          "text": [
            "94/94 [==============================] - 5s 30ms/step\n",
            "94/94 [==============================] - 4s 26ms/step\n",
            "94/94 [==============================] - 4s 25ms/step\n"
          ]
        }
      ]
    },
    {
      "cell_type": "code",
      "source": [
        "# calculate accuracy\n",
        "acc = {}\n",
        "for i in range(3):\n",
        "    icat = cat[i]\n",
        "    iacc = accuracy_score(df_test[cat[i]], predLabels[i])\n",
        "    acc[icat] = iacc\n",
        "\n",
        "# calculate disparity\n",
        "def disparity_score(ytrue, ypred):\n",
        "    cm = confusion_matrix(ytrue,ypred)\n",
        "    cm = cm.astype('float') / cm.sum(axis=1)[:, np.newaxis]\n",
        "    all_acc = list(cm.diagonal())\n",
        "    return max(all_acc) - min(all_acc)\n",
        "\n",
        "disp = {}\n",
        "for i in range(3):\n",
        "    icat = cat[i]\n",
        "    idisp = disparity_score(df_test[cat[i]], predLabels[i])\n",
        "    disp[icat] = idisp\n",
        "disp\n",
        "\n",
        "results = {'accuracy': acc, 'disparity': disp}\n",
        "results\n"
      ],
      "metadata": {
        "colab": {
          "base_uri": "https://localhost:8080/"
        },
        "id": "Tdbd2uM0bYBc",
        "outputId": "8a2fa374-f1b3-4b77-8f84-3df51f7b9fc1"
      },
      "execution_count": null,
      "outputs": [
        {
          "output_type": "execute_result",
          "data": {
            "text/plain": [
              "{'accuracy': {'skin_tone': 0.22666666666666666,\n",
              "  'gender': 0.7383333333333333,\n",
              "  'age': 0.5346666666666666},\n",
              " 'disparity': {'skin_tone': 0.41467889908256883,\n",
              "  'gender': 0.09195522544199186,\n",
              "  'age': 0.6112695867443104}}"
            ]
          },
          "metadata": {},
          "execution_count": 12
        }
      ]
    },
    {
      "cell_type": "code",
      "source": [
        "def getScore(results):\n",
        "    acc = results['accuracy']\n",
        "    disp = results['disparity']\n",
        "    ad = 2*acc['gender']*(1-disp['gender']) + 4*acc['age']*(1-disp['age']**2) + 10*acc['skin_tone']*(1-disp['skin_tone']**5)\n",
        "    return ad\n",
        "\n",
        "title = '8-Bit Bias Bounty Baseline'\n",
        "    \n",
        "submission = {\n",
        "    'submission_name': title,\n",
        "    'score': getScore(results),\n",
        "    'metrics': results\n",
        "}\n",
        "submission"
      ],
      "metadata": {
        "colab": {
          "base_uri": "https://localhost:8080/"
        },
        "id": "S0twNHvlbZUw",
        "outputId": "b5da2ec6-7bee-4190-e3d3-fd2817447c62"
      },
      "execution_count": null,
      "outputs": [
        {
          "output_type": "execute_result",
          "data": {
            "text/plain": [
              "{'submission_name': '8-Bit Bias Bounty Baseline',\n",
              " 'score': 4.9193051354942385,\n",
              " 'metrics': {'accuracy': {'skin_tone': 0.22666666666666666,\n",
              "   'gender': 0.7383333333333333,\n",
              "   'age': 0.5346666666666666},\n",
              "  'disparity': {'skin_tone': 0.41467889908256883,\n",
              "   'gender': 0.09195522544199186,\n",
              "   'age': 0.6112695867443104}}}"
            ]
          },
          "metadata": {},
          "execution_count": 13
        }
      ]
    },
    {
      "cell_type": "code",
      "source": [
        "with open(\"evad_score.json\", \"w\") as f:\n",
        "    json.dump(submission, f, indent=4)"
      ],
      "metadata": {
        "id": "5XL-HPlD9DVF"
      },
      "execution_count": null,
      "outputs": []
    }
  ]
}