{
  "nbformat": 4,
  "nbformat_minor": 0,
  "metadata": {
    "colab": {
      "provenance": []
    },
    "kernelspec": {
      "name": "python3",
      "display_name": "Python 3"
    },
    "language_info": {
      "name": "python"
    },
    "accelerator": "GPU",
    "gpuClass": "standard"
  },
  "cells": [
    {
      "cell_type": "code",
      "execution_count": 1,
      "metadata": {
        "id": "6Lv5OYlsx7Vz",
        "colab": {
          "base_uri": "https://localhost:8080/"
        },
        "outputId": "b17d4b48-6a92-4060-b49a-31fc18a44b20"
      },
      "outputs": [
        {
          "output_type": "stream",
          "name": "stdout",
          "text": [
            "Mounted at /content/drive\n"
          ]
        }
      ],
      "source": [
        "from google.colab import drive\n",
        "drive.mount('/content/drive')\n"
      ]
    },
    {
      "cell_type": "code",
      "source": [
        "!cp /content/drive/MyDrive/data_bb1_img_recognition.zip /content/"
      ],
      "metadata": {
        "id": "mdIzGvkwMta3"
      },
      "execution_count": 2,
      "outputs": []
    },
    {
      "cell_type": "code",
      "source": [
        "!unzip data_bb1_img_recognition.zip -d /content/dataset/"
      ],
      "metadata": {
        "id": "oMOks48_M2Fh"
      },
      "execution_count": null,
      "outputs": []
    },
    {
      "cell_type": "code",
      "source": [
        "# !pip install tensorflow\n",
        "import numpy as np\n",
        "import pandas as pd\n",
        "import json\n",
        "import os\n",
        "\n",
        "from sklearn.preprocessing import LabelBinarizer\n",
        "from sklearn.model_selection import train_test_split\n",
        "from sklearn.metrics import accuracy_score, confusion_matrix\n",
        "\n",
        "import tensorflow as tf\n",
        "print(tf. __version__)\n",
        "import tensorflow.keras as K\n",
        "from tensorflow.keras.preprocessing import image\n",
        "from tensorflow.keras.applications.resnet_v2 import ResNet101V2\n",
        "from tensorflow.keras.applications.convnext import ConvNeXtLarge"
      ],
      "metadata": {
        "id": "vKgnknGKMq9m",
        "colab": {
          "base_uri": "https://localhost:8080/"
        },
        "outputId": "c4d1b81d-dc27-4d82-e60e-b20961e5c99f"
      },
      "execution_count": 1,
      "outputs": [
        {
          "output_type": "stream",
          "name": "stdout",
          "text": [
            "2.11.0\n"
          ]
        }
      ]
    },
    {
      "cell_type": "code",
      "source": [
        "# load data\n",
        "LOADPATH = '/content/dataset/train/'\n",
        "SAVEPATH = '/content/models/'\n",
        "df = pd.read_csv(LOADPATH+'labels.csv')\n",
        "df_labeled = df[df[\"skin_tone\"].notna()] # take only labeled data\n",
        "\n",
        "# Converting labels to np array\n",
        "cat = ['skin_tone','gender','age']\n",
        "lbs = [LabelBinarizer() for i in range(3)]\n",
        "Y = []\n",
        "for i in range(3):\n",
        "    lab = lbs[i].fit_transform(df_labeled[cat[i]])\n",
        "    if lab.shape[1]==1:\n",
        "        Y.append(np.hstack((1-lab,lab)))\n",
        "    else:\n",
        "        Y.append(lab)"
      ],
      "metadata": {
        "id": "9aFjeTbpNXJx"
      },
      "execution_count": 2,
      "outputs": []
    },
    {
      "cell_type": "code",
      "source": [
        "# !pip install --upgrade tensorflow"
      ],
      "metadata": {
        "id": "kbPO8IWMm7YO"
      },
      "execution_count": null,
      "outputs": []
    },
    {
      "cell_type": "code",
      "source": [
        "# loading and converting data into np array\n",
        "print(\"Loading images\")\n",
        "length = width = 64 # size for each input image, increase if you want\n",
        "nn = df_labeled.shape[0]\n",
        "all_imgs = [image.load_img(LOADPATH+df_labeled.iloc[i]['name'], target_size=(length,width)) for i in range(nn)]\n",
        "\n",
        "print(\"Converting images to np array\")\n",
        "X = np.empty([nn, length, width, 3], dtype=float)\n",
        "for i in range(nn):\n",
        "    X[i,:] = image.img_to_array(all_imgs[i])\n",
        "X = K.applications.convnext.preprocess_input(X)\n"
      ],
      "metadata": {
        "colab": {
          "base_uri": "https://localhost:8080/"
        },
        "id": "xKVO-pTBScot",
        "outputId": "38602878-ddec-4a69-dbeb-827068cc9547"
      },
      "execution_count": 3,
      "outputs": [
        {
          "output_type": "stream",
          "name": "stdout",
          "text": [
            "Loading images\n",
            "Converting images to np array\n"
          ]
        }
      ]
    },
    {
      "cell_type": "code",
      "source": [
        "all_imgs[1234] # print a test image"
      ],
      "metadata": {
        "colab": {
          "base_uri": "https://localhost:8080/",
          "height": 81
        },
        "id": "QGOff17MTN7Q",
        "outputId": "ddb99dd3-4204-4026-fac8-b232d2dd60c9"
      },
      "execution_count": 4,
      "outputs": [
        {
          "output_type": "execute_result",
          "data": {
            "text/plain": [
              "<PIL.Image.Image image mode=RGB size=64x64 at 0x7FBA93ED7E50>"
            ],
            "image/png": "[encoded data removed]"
          },
          "metadata": {},
          "execution_count": 4
        }
      ]
    },
    {
      "cell_type": "code",
      "source": [
        "class PredictionModel():\n",
        "    def __init__(self, X, Y, idx):\n",
        "        self.X = X\n",
        "        self.Y = Y\n",
        "        self.idx = idx\n",
        "        self.trainX, self.testX = X[idx[0],:], X[idx[1],:]\n",
        "        self.trainY, self.testY = [Y[i][idx[0],:] for i in range(3)], [Y[i][idx[1],:] for i in range(3)]\n",
        "        self.cat = ['skin_tone','gender','age']\n",
        "        self.loss = ['categorical_crossentropy' for i in range(3)]\n",
        "        self.metrics = [['accuracy'] for i in range(3)]\n",
        "        self.models = [None]*3\n",
        "\n",
        "    # train a model specific for a certain class index in self.cat\n",
        "    def fit(self, index, model, epochs=5, batch_size=16, save=False, save_location=None, verbose=1):\n",
        "        \n",
        "        if verbose: print(\"Training model for \"+self.cat[index])\n",
        "        model.add(K.layers.Dense(self.trainY[index].shape[1], activation='softmax'))\n",
        "        model.compile(loss=self.loss[index], optimizer='Adam', metrics=self.metrics[index])\n",
        "        model.fit(\n",
        "            self.trainX, self.trainY[index], \n",
        "            validation_data=(self.testX,self.testY[index]), \n",
        "            batch_size=batch_size, epochs=epochs, verbose=verbose\n",
        "        )\n",
        "        if save:\n",
        "            if os.path.exists(SAVEPATH)==False:\n",
        "                print('save location '+SAVEPATH+' did not exist. creating')\n",
        "                os.makedirs(SAVEPATH)\n",
        "            SAVE_LOCATION = save_location+'model_'+cat[index]+'.h5'\n",
        "            print(\"saving model at \"+SAVE_LOCATION)\n",
        "            model.save(SAVE_LOCATION)\n",
        "        self.models[index] = model\n",
        "            \n",
        "    def predict(self, newX):\n",
        "        predictions = [model.predict(newX) for model in self.models]\n",
        "        return predictions\n"
      ],
      "metadata": {
        "id": "kfHk1xG0bNAr"
      },
      "execution_count": 5,
      "outputs": []
    },
    {
      "cell_type": "code",
      "source": [
        "# function to initialize a model\n",
        "def initializeModel():\n",
        "    res_model = ConvNeXtLarge(include_top=False, weights='imagenet', input_tensor=K.Input(shape=[length, width, 3]))\n",
        "\n",
        "    # # freeze all but the last layer\n",
        "    for layer in res_model.layers[:292]:\n",
        "      layer.trainable = False\n",
        "    model = K.models.Sequential()\n",
        "    model.add(res_model)\n",
        "    model.add(K.layers.Flatten())\n",
        "    model.add(K.layers.BatchNormalization())\n",
        "    model.add(K.layers.Dense(256, activation='relu'))\n",
        "    model.add(K.layers.Dropout(0.5))\n",
        "    model.add(K.layers.BatchNormalization())\n",
        "    model.add(K.layers.Dense(128, activation='relu'))\n",
        "    model.add(K.layers.Dropout(0.5))\n",
        "    model.add(K.layers.BatchNormalization())\n",
        "    model.add(K.layers.Dense(64, activation='relu'))\n",
        "    model.add(K.layers.Dropout(0.5))\n",
        "    model.add(K.layers.BatchNormalization())\n",
        "    return model\n",
        "\n",
        "nntrain = int(0.7*nn)\n",
        "np.random.seed(42)\n",
        "indices = np.random.permutation(nn)\n",
        "train_idx, test_idx = indices[:nntrain], indices[nntrain:]\n",
        "mymodel = PredictionModel(X=X, Y=Y, idx=[train_idx,test_idx])\n",
        "\n",
        "# train model\n",
        "for i in range(3):\n",
        "    mymodel.fit(index=i, model=initializeModel(), epochs=5, save=True, save_location=SAVEPATH)"
      ],
      "metadata": {
        "colab": {
          "base_uri": "https://localhost:8080/"
        },
        "id": "CRbjLLoMbO77",
        "outputId": "8ab8bba7-ae59-4b59-cc68-1af34acda6ca"
      },
      "execution_count": 10,
      "outputs": [
        {
          "output_type": "stream",
          "name": "stdout",
          "text": [
            "Training model for skin_tone\n",
            "Epoch 1/5\n",
            "375/375 [==============================] - 73s 134ms/step - loss: 2.5191 - accuracy: 0.1545 - val_loss: 1.9496 - val_accuracy: 0.2580\n",
            "Epoch 2/5\n",
            "375/375 [==============================] - 49s 132ms/step - loss: 2.1500 - accuracy: 0.1989 - val_loss: 1.8443 - val_accuracy: 0.2689\n",
            "Epoch 3/5\n",
            "375/375 [==============================] - 49s 131ms/step - loss: 1.9990 - accuracy: 0.2228 - val_loss: 1.7976 - val_accuracy: 0.2860\n",
            "Epoch 4/5\n",
            "375/375 [==============================] - 49s 130ms/step - loss: 1.9293 - accuracy: 0.2455 - val_loss: 1.7759 - val_accuracy: 0.2935\n",
            "Epoch 5/5\n",
            "375/375 [==============================] - 51s 135ms/step - loss: 1.8905 - accuracy: 0.2564 - val_loss: 1.7669 - val_accuracy: 0.3036\n",
            "save location /content/models/ did not exist. creating\n",
            "saving model at /content/models/model_skin_tone.h5\n",
            "Training model for gender\n",
            "Epoch 1/5\n",
            "375/375 [==============================] - 73s 144ms/step - loss: 0.6063 - accuracy: 0.7075 - val_loss: 0.3525 - val_accuracy: 0.8164\n",
            "Epoch 2/5\n",
            "375/375 [==============================] - 49s 130ms/step - loss: 0.4495 - accuracy: 0.7743 - val_loss: 0.3431 - val_accuracy: 0.8336\n",
            "Epoch 3/5\n",
            "375/375 [==============================] - 51s 136ms/step - loss: 0.4212 - accuracy: 0.7917 - val_loss: 0.3391 - val_accuracy: 0.8320\n",
            "Epoch 4/5\n",
            "375/375 [==============================] - 49s 131ms/step - loss: 0.4052 - accuracy: 0.8026 - val_loss: 0.3446 - val_accuracy: 0.8250\n",
            "Epoch 5/5\n",
            "375/375 [==============================] - 49s 130ms/step - loss: 0.3899 - accuracy: 0.8039 - val_loss: 0.3408 - val_accuracy: 0.8289\n",
            "saving model at /content/models/model_gender.h5\n",
            "Training model for age\n",
            "Epoch 1/5\n",
            "375/375 [==============================] - 73s 144ms/step - loss: 1.3621 - accuracy: 0.4476 - val_loss: 0.9209 - val_accuracy: 0.6033\n",
            "Epoch 2/5\n",
            "375/375 [==============================] - 49s 130ms/step - loss: 1.0557 - accuracy: 0.5458 - val_loss: 0.9008 - val_accuracy: 0.6083\n",
            "Epoch 3/5\n",
            "375/375 [==============================] - 49s 130ms/step - loss: 1.0035 - accuracy: 0.5629 - val_loss: 0.8708 - val_accuracy: 0.6247\n",
            "Epoch 4/5\n",
            "375/375 [==============================] - 49s 129ms/step - loss: 0.9569 - accuracy: 0.5814 - val_loss: 0.8560 - val_accuracy: 0.6274\n",
            "Epoch 5/5\n",
            "375/375 [==============================] - 49s 129ms/step - loss: 0.9276 - accuracy: 0.5926 - val_loss: 0.8496 - val_accuracy: 0.6259\n",
            "saving model at /content/models/model_age.h5\n"
          ]
        }
      ]
    },
    {
      "cell_type": "code",
      "source": [
        "# load labels data\n",
        "TESTPATH = '/content/dataset/test/'\n",
        "df_test = pd.read_csv(TESTPATH+'labels.csv')\n",
        "\n",
        "# Convert labels to np array\n",
        "print(\"Converting test labels to np array\")\n",
        "testY = []\n",
        "for i in range(3):\n",
        "    lab = lbs[i].fit_transform(df_test[cat[i]])\n",
        "    if lab.shape[1]==1:\n",
        "        testY.append(np.hstack((1-lab,lab)))\n",
        "    else:\n",
        "        testY.append(lab)\n",
        "        \n",
        "# load and convert images into np array\n",
        "print(\"Loading test images\")\n",
        "nt = df_test.shape[0]\n",
        "all_imgs = [image.load_img(TESTPATH+df_test.iloc[i]['name'], target_size=(length,width)) for i in range(nt)]\n",
        "\n",
        "print(\"Converting test images to np array\")\n",
        "testX = np.empty([nt, length, width, 3], dtype=float)\n",
        "for i in range(nt):\n",
        "    testX[i,:] = image.img_to_array(all_imgs[i])\n",
        "testX = K.applications.convnext.preprocess_input(testX)"
      ],
      "metadata": {
        "colab": {
          "base_uri": "https://localhost:8080/"
        },
        "id": "f-g0dtc1bQ4P",
        "outputId": "033aafce-2bab-4ab4-9f98-12aaae59ca7f"
      },
      "execution_count": 11,
      "outputs": [
        {
          "output_type": "stream",
          "name": "stdout",
          "text": [
            "Converting test labels to np array\n",
            "Loading test images\n",
            "Converting test images to np array\n"
          ]
        }
      ]
    },
    {
      "cell_type": "code",
      "source": [
        "pred = mymodel.predict(testX)\n",
        "predY = [[np.argmax(pred[i][j,:]) for j in range(nt)] for i in range(3)]\n",
        "predLabels = [[lbs[i].classes_[j] for j in predY[i]] for i in range(3)]\n"
      ],
      "metadata": {
        "colab": {
          "base_uri": "https://localhost:8080/"
        },
        "id": "9XNefOcrbXmG",
        "outputId": "eb98e39d-fde1-485a-ebff-977725482f14"
      },
      "execution_count": 12,
      "outputs": [
        {
          "output_type": "stream",
          "name": "stdout",
          "text": [
            "94/94 [==============================] - 18s 131ms/step\n",
            "94/94 [==============================] - 17s 123ms/step\n",
            "94/94 [==============================] - 16s 124ms/step\n"
          ]
        }
      ]
    },
    {
      "cell_type": "code",
      "source": [
        "# calculate accuracy\n",
        "acc = {}\n",
        "for i in range(3):\n",
        "    icat = cat[i]\n",
        "    iacc = accuracy_score(df_test[cat[i]], predLabels[i])\n",
        "    acc[icat] = iacc\n",
        "\n",
        "# calculate disparity\n",
        "def disparity_score(ytrue, ypred):\n",
        "    cm = confusion_matrix(ytrue,ypred)\n",
        "    cm = cm.astype('float') / cm.sum(axis=1)[:, np.newaxis]\n",
        "    all_acc = list(cm.diagonal())\n",
        "    return max(all_acc) - min(all_acc)\n",
        "\n",
        "disp = {}\n",
        "for i in range(3):\n",
        "    icat = cat[i]\n",
        "    idisp = disparity_score(df_test[cat[i]], predLabels[i])\n",
        "    disp[icat] = idisp\n",
        "disp\n",
        "\n",
        "results = {'accuracy': acc, 'disparity': disp}\n",
        "results\n"
      ],
      "metadata": {
        "colab": {
          "base_uri": "https://localhost:8080/"
        },
        "id": "Tdbd2uM0bYBc",
        "outputId": "2dc57b1d-1f06-4787-c345-6a9f343bfcfb"
      },
      "execution_count": 13,
      "outputs": [
        {
          "output_type": "execute_result",
          "data": {
            "text/plain": [
              "{'accuracy': {'skin_tone': 0.2936666666666667,\n",
              "  'gender': 0.8676666666666667,\n",
              "  'age': 0.652},\n",
              " 'disparity': {'skin_tone': 0.5921052631578947,\n",
              "  'gender': 0.2262231056247166,\n",
              "  'age': 0.735916777114596}}"
            ]
          },
          "metadata": {},
          "execution_count": 13
        }
      ]
    },
    {
      "cell_type": "code",
      "source": [
        "def getScore(results):\n",
        "    acc = results['accuracy']\n",
        "    disp = results['disparity']\n",
        "    ad = 2*acc['gender']*(1-disp['gender']) + 4*acc['age']*(1-disp['age']**2) + 10*acc['skin_tone']*(1-disp['skin_tone']**5)\n",
        "    return ad\n",
        "\n",
        "title = '8-Bit Bias Bounty Baseline'\n",
        "    \n",
        "submission = {\n",
        "    'submission_name': title,\n",
        "    'score': getScore(results),\n",
        "    'metrics': results\n",
        "}\n",
        "submission"
      ],
      "metadata": {
        "colab": {
          "base_uri": "https://localhost:8080/"
        },
        "id": "S0twNHvlbZUw",
        "outputId": "0c88a24a-c63e-468d-9e75-1353ef61209d"
      },
      "execution_count": 14,
      "outputs": [
        {
          "output_type": "execute_result",
          "data": {
            "text/plain": [
              "{'submission_name': '8-Bit Bias Bounty Baseline',\n",
              " 'score': 5.261281793120094,\n",
              " 'metrics': {'accuracy': {'skin_tone': 0.2936666666666667,\n",
              "   'gender': 0.8676666666666667,\n",
              "   'age': 0.652},\n",
              "  'disparity': {'skin_tone': 0.5921052631578947,\n",
              "   'gender': 0.2262231056247166,\n",
              "   'age': 0.735916777114596}}}"
            ]
          },
          "metadata": {},
          "execution_count": 14
        }
      ]
    },
    {
      "cell_type": "code",
      "source": [
        "with open(\"evad_score.json\", \"w\") as f:\n",
        "    json.dump(submission, f, indent=4)"
      ],
      "metadata": {
        "id": "5XL-HPlD9DVF"
      },
      "execution_count": 15,
      "outputs": []
    }
  ]
}